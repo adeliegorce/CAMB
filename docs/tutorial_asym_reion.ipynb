{
 "cells": [
  {
   "cell_type": "markdown",
   "id": "22abb4b5",
   "metadata": {},
   "source": [
    "# Tests for asymmetric reion implementation in CAMB"
   ]
  },
  {
   "cell_type": "code",
   "execution_count": 1,
   "id": "5089a513",
   "metadata": {},
   "outputs": [],
   "source": [
    "import camb"
   ]
  },
  {
   "cell_type": "code",
   "execution_count": 2,
   "id": "48e32536",
   "metadata": {},
   "outputs": [],
   "source": [
    "import matplotlib.pyplot as plt \n",
    "import numpy as np \n",
    "%matplotlib inline"
   ]
  },
  {
   "cell_type": "code",
   "execution_count": 3,
   "id": "8d41e406",
   "metadata": {},
   "outputs": [],
   "source": [
    "%load_ext autoreload\n",
    "%autoreload 2"
   ]
  },
  {
   "cell_type": "code",
   "execution_count": 4,
   "id": "9b40af69",
   "metadata": {},
   "outputs": [],
   "source": [
    "z=np.arange(0,20,0.1)"
   ]
  },
  {
   "cell_type": "code",
   "execution_count": 5,
   "id": "522dbecc",
   "metadata": {},
   "outputs": [],
   "source": [
    "#COSMOLOGICAL CONSTANTS\n",
    "h = 0.6774000\n",
    "Om_0 = 0.309\n",
    "Ob_0 = 0.049\n",
    "obh2 = Ob_0 * h**2\n",
    "och2 = (Om_0 - Ob_0) * h**2\n",
    "T_cmb = 2.7255"
   ]
  },
  {
   "cell_type": "markdown",
   "id": "d7215ca9",
   "metadata": {},
   "source": [
    "## Test for model defined through tau"
   ]
  },
  {
   "cell_type": "code",
   "execution_count": 6,
   "id": "5b175f6a",
   "metadata": {},
   "outputs": [],
   "source": [
    "# initial parameters\n",
    "pars = camb.read_ini('/home/agorce/CAMB-1.3.8_asym/inifiles/params_reion.ini')"
   ]
  },
  {
   "cell_type": "code",
   "execution_count": 7,
   "id": "d744dde1",
   "metadata": {},
   "outputs": [
    {
     "name": "stdout",
     "output_type": "stream",
     "text": [
      "class: <TanhReionization>\n",
      " Reionization = True\n",
      " use_optical_depth = True\n",
      " redshift = 0.0\n",
      " optical_depth = 0.058\n",
      " fraction = -1.0\n",
      " include_helium_fullreion = True\n",
      " helium_redshift = 3.5\n",
      " helium_delta_redshift = 0.4\n",
      " helium_redshiftstart = 5.5\n",
      " tau_solve_accuracy_boost = 1.0\n",
      " timestep_boost = 1.0\n",
      " z_end = 0.0\n",
      " z_early = 20.0\n",
      " \n"
     ]
    }
   ],
   "source": [
    "print(pars.Reion)"
   ]
  },
  {
   "cell_type": "code",
   "execution_count": 8,
   "id": "90f76610",
   "metadata": {},
   "outputs": [
    {
     "data": {
      "text/plain": [
       "True"
      ]
     },
     "execution_count": 8,
     "metadata": {},
     "output_type": "execute_result"
    }
   ],
   "source": [
    "pars.Reion.use_optical_depth"
   ]
  },
  {
   "cell_type": "code",
   "execution_count": 9,
   "id": "8b08b9de",
   "metadata": {},
   "outputs": [
    {
     "data": {
      "text/plain": [
       "(0.0, 0.0)"
      ]
     },
     "execution_count": 9,
     "metadata": {},
     "output_type": "execute_result"
    }
   ],
   "source": [
    "pars.Reion.redshift, pars.Reion.z_end"
   ]
  },
  {
   "cell_type": "code",
   "execution_count": 10,
   "id": "5f78ecd7",
   "metadata": {},
   "outputs": [
    {
     "name": "stdout",
     "output_type": "stream",
     "text": [
      "zre = 7.31\n",
      "tau = 0.0580\n"
     ]
    }
   ],
   "source": [
    "print(f'zre = {pars.get_zre():.2f}')\n",
    "print(f'tau = {pars.get_tau():.4f}')"
   ]
  },
  {
   "cell_type": "code",
   "execution_count": 13,
   "id": "3fabdc4d",
   "metadata": {},
   "outputs": [
    {
     "data": {
      "text/plain": [
       "<matplotlib.lines.Line2D at 0x2ae85c99fa00>"
      ]
     },
     "execution_count": 13,
     "metadata": {},
     "output_type": "execute_result"
    },
    {
     "data": {
      "image/png": "[encoded data removed]",
      "text/plain": [
       "<Figure size 432x288 with 1 Axes>"
      ]
     },
     "metadata": {
      "needs_background": "light"
     },
     "output_type": "display_data"
    }
   ],
   "source": [
    "results = camb.get_results(pars)\n",
    "x = results.get_background_redshift_evolution(z,'x_e')['x_e']\n",
    "plt.figure()\n",
    "plt.plot(z, x)\n",
    "plt.axvline(pars.Reion.get_zre(pars), color='k', ls='--')\n",
    "plt.axhline(0.5*1.08, color='k', ls='--')"
   ]
  },
  {
   "cell_type": "markdown",
   "id": "84852a72",
   "metadata": {},
   "source": [
    "## Model defined through zre"
   ]
  },
  {
   "cell_type": "code",
   "execution_count": 14,
   "id": "dc518858",
   "metadata": {},
   "outputs": [
    {
     "name": "stdout",
     "output_type": "stream",
     "text": [
      "class: <TanhReionization>\n",
      " Reionization = True\n",
      " use_optical_depth = False\n",
      " redshift = 7.31\n",
      " optical_depth = 0.0\n",
      " fraction = -1.0\n",
      " include_helium_fullreion = True\n",
      " helium_redshift = 3.5\n",
      " helium_delta_redshift = 0.4\n",
      " helium_redshiftstart = 5.5\n",
      " tau_solve_accuracy_boost = 1.0\n",
      " timestep_boost = 1.0\n",
      " z_end = 5.6\n",
      " z_early = 20.0\n",
      " \n"
     ]
    }
   ],
   "source": [
    "pars = camb.read_ini('/home/agorce/CAMB-1.3.8_asym/inifiles/params_reion2.ini')\n",
    "print(pars.Reion)"
   ]
  },
  {
   "cell_type": "code",
   "execution_count": 15,
   "id": "ce4fcb8c",
   "metadata": {
    "scrolled": true
   },
   "outputs": [
    {
     "name": "stdout",
     "output_type": "stream",
     "text": [
      "zre = 7.31\n",
      "tau = 0.0588\n"
     ]
    }
   ],
   "source": [
    "print(f'zre = {pars.get_zre():.2f}')\n",
    "print(f'tau = {pars.get_tau():.4f}')"
   ]
  },
  {
   "cell_type": "code",
   "execution_count": 17,
   "id": "0d4f7d2b",
   "metadata": {},
   "outputs": [
    {
     "data": {
      "text/plain": [
       "<matplotlib.lines.Line2D at 0x2ae85f0b5ac0>"
      ]
     },
     "execution_count": 17,
     "metadata": {},
     "output_type": "execute_result"
    },
    {
     "data": {
      "image/png": "[encoded data removed]",
      "text/plain": [
       "<Figure size 432x288 with 1 Axes>"
      ]
     },
     "metadata": {
      "needs_background": "light"
     },
     "output_type": "display_data"
    }
   ],
   "source": [
    "results = camb.get_results(pars) \n",
    "x = results.get_background_redshift_evolution(z,'x_e')['x_e']\n",
    "plt.figure()\n",
    "plt.plot(z, x)\n",
    "plt.axvline(pars.Reion.get_zre(pars), color='k', ls='--')\n",
    "plt.axhline(0.5*1.08, color='k', ls='--')\n",
    "plt.axvline(5.5)"
   ]
  },
  {
   "cell_type": "code",
   "execution_count": null,
   "id": "bdc120f8",
   "metadata": {},
   "outputs": [],
   "source": []
  },
  {
   "cell_type": "code",
   "execution_count": null,
   "id": "c141a312",
   "metadata": {},
   "outputs": [],
   "source": []
  }
 ],
 "metadata": {
  "kernelspec": {
   "display_name": "Python 3 (ipykernel)",
   "language": "python",
   "name": "python3"
  },
  "language_info": {
   "codemirror_mode": {
    "name": "ipython",
    "version": 3
   },
   "file_extension": ".py",
   "mimetype": "text/x-python",
   "name": "python",
   "nbconvert_exporter": "python",
   "pygments_lexer": "ipython3",
   "version": "3.8.10"
  }
 },
 "nbformat": 4,
 "nbformat_minor": 5
}
